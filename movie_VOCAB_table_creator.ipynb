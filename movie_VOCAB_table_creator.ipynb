{
 "cells": [
  {
   "cell_type": "markdown",
   "metadata": {},
   "source": [
    "* Cory Clayton (acc2ds@virginia.edu)\n",
    "- DS5001\n",
    "- 6 May 2021\n"
   ]
  },
  {
   "cell_type": "markdown",
   "metadata": {},
   "source": [
    "# VOCAB table creation for movie transcript project"
   ]
  },
  {
   "cell_type": "markdown",
   "metadata": {},
   "source": [
    "## setup"
   ]
  },
  {
   "cell_type": "code",
   "execution_count": 1,
   "metadata": {
    "ExecuteTime": {
     "end_time": "2021-05-05T15:55:07.055837Z",
     "start_time": "2021-05-05T15:55:05.395843Z"
    }
   },
   "outputs": [],
   "source": [
    "import pandas as pd\n",
    "import numpy as np\n",
    "\n",
    "import re\n",
    "import nltk\n",
    "\n",
    "import matplotlib.pyplot as plt\n",
    "import seaborn as sns; sns.set()"
   ]
  },
  {
   "cell_type": "code",
   "execution_count": 2,
   "metadata": {
    "ExecuteTime": {
     "end_time": "2021-05-05T15:55:07.071728Z",
     "start_time": "2021-05-05T15:55:07.061713Z"
    }
   },
   "outputs": [],
   "source": [
    "data_in = './data_in/'\n",
    "data_out = './data_out/'\n",
    "data_prefix = 'movie'"
   ]
  },
  {
   "cell_type": "code",
   "execution_count": 3,
   "metadata": {
    "ExecuteTime": {
     "end_time": "2021-05-05T15:55:07.087744Z",
     "start_time": "2021-05-05T15:55:07.074709Z"
    }
   },
   "outputs": [],
   "source": [
    "OHCO = ['movie_id', 'Action_number', 'Dialogue_num','sent_num']\n",
    "DIALOGUE = OHCO[:3]\n",
    "ACTION = OHCO[:2]\n",
    "MOVIE = OHCO[:1]\n"
   ]
  },
  {
   "cell_type": "code",
   "execution_count": 4,
   "metadata": {
    "ExecuteTime": {
     "end_time": "2021-05-05T15:55:07.279833Z",
     "start_time": "2021-05-05T15:55:07.089712Z"
    }
   },
   "outputs": [],
   "source": [
    "TOKENS = pd.read_csv('{}/{}-TOKENS.csv'.format(data_in, data_prefix))"
   ]
  },
  {
   "cell_type": "code",
   "execution_count": 5,
   "metadata": {
    "ExecuteTime": {
     "end_time": "2021-05-05T15:55:07.342970Z",
     "start_time": "2021-05-05T15:55:07.282709Z"
    }
   },
   "outputs": [],
   "source": [
    "TOKENS.set_index(OHCO,inplace=True)"
   ]
  },
  {
   "cell_type": "code",
   "execution_count": 6,
   "metadata": {
    "ExecuteTime": {
     "end_time": "2021-05-05T15:55:07.389741Z",
     "start_time": "2021-05-05T15:55:07.344708Z"
    }
   },
   "outputs": [
    {
     "data": {
      "text/html": [
       "<div>\n",
       "<style scoped>\n",
       "    .dataframe tbody tr th:only-of-type {\n",
       "        vertical-align: middle;\n",
       "    }\n",
       "\n",
       "    .dataframe tbody tr th {\n",
       "        vertical-align: top;\n",
       "    }\n",
       "\n",
       "    .dataframe thead th {\n",
       "        text-align: right;\n",
       "    }\n",
       "</style>\n",
       "<table border=\"1\" class=\"dataframe\">\n",
       "  <thead>\n",
       "    <tr style=\"text-align: right;\">\n",
       "      <th></th>\n",
       "      <th></th>\n",
       "      <th></th>\n",
       "      <th></th>\n",
       "      <th>token_num</th>\n",
       "      <th>pos_tuple</th>\n",
       "      <th>pos</th>\n",
       "      <th>token_str</th>\n",
       "      <th>term_str</th>\n",
       "    </tr>\n",
       "    <tr>\n",
       "      <th>movie_id</th>\n",
       "      <th>Action_number</th>\n",
       "      <th>Dialogue_num</th>\n",
       "      <th>sent_num</th>\n",
       "      <th></th>\n",
       "      <th></th>\n",
       "      <th></th>\n",
       "      <th></th>\n",
       "      <th></th>\n",
       "    </tr>\n",
       "  </thead>\n",
       "  <tbody>\n",
       "    <tr>\n",
       "      <th rowspan=\"5\" valign=\"top\">m1</th>\n",
       "      <th rowspan=\"5\" valign=\"top\">1.0</th>\n",
       "      <th>0</th>\n",
       "      <th>0</th>\n",
       "      <td>0</td>\n",
       "      <td>('Mama', 'NN')</td>\n",
       "      <td>NN</td>\n",
       "      <td>Mama</td>\n",
       "      <td>mama</td>\n",
       "    </tr>\n",
       "    <tr>\n",
       "      <th rowspan=\"4\" valign=\"top\">1</th>\n",
       "      <th>0</th>\n",
       "      <td>0</td>\n",
       "      <td>('We', 'PRP')</td>\n",
       "      <td>PRP</td>\n",
       "      <td>We</td>\n",
       "      <td>we</td>\n",
       "    </tr>\n",
       "    <tr>\n",
       "      <th>0</th>\n",
       "      <td>1</td>\n",
       "      <td>('know', 'VBP')</td>\n",
       "      <td>VBP</td>\n",
       "      <td>know</td>\n",
       "      <td>know</td>\n",
       "    </tr>\n",
       "    <tr>\n",
       "      <th>1</th>\n",
       "      <td>0</td>\n",
       "      <td>('Jyn,', 'NNP')</td>\n",
       "      <td>NNP</td>\n",
       "      <td>Jyn,</td>\n",
       "      <td>jyn</td>\n",
       "    </tr>\n",
       "    <tr>\n",
       "      <th>1</th>\n",
       "      <td>1</td>\n",
       "      <td>('gather', 'CC')</td>\n",
       "      <td>CC</td>\n",
       "      <td>gather</td>\n",
       "      <td>gather</td>\n",
       "    </tr>\n",
       "    <tr>\n",
       "      <th>...</th>\n",
       "      <th>...</th>\n",
       "      <th>...</th>\n",
       "      <th>...</th>\n",
       "      <td>...</td>\n",
       "      <td>...</td>\n",
       "      <td>...</td>\n",
       "      <td>...</td>\n",
       "      <td>...</td>\n",
       "    </tr>\n",
       "    <tr>\n",
       "      <th rowspan=\"5\" valign=\"top\">m24</th>\n",
       "      <th rowspan=\"5\" valign=\"top\">279.0</th>\n",
       "      <th rowspan=\"2\" valign=\"top\">10</th>\n",
       "      <th>0</th>\n",
       "      <td>1</td>\n",
       "      <td>('did', 'VBD')</td>\n",
       "      <td>VBD</td>\n",
       "      <td>did</td>\n",
       "      <td>did</td>\n",
       "    </tr>\n",
       "    <tr>\n",
       "      <th>0</th>\n",
       "      <td>2</td>\n",
       "      <td>('it', 'PRP')</td>\n",
       "      <td>PRP</td>\n",
       "      <td>it</td>\n",
       "      <td>it</td>\n",
       "    </tr>\n",
       "    <tr>\n",
       "      <th>11</th>\n",
       "      <th>0</th>\n",
       "      <td>0</td>\n",
       "      <td>('Yes', 'UH')</td>\n",
       "      <td>UH</td>\n",
       "      <td>Yes</td>\n",
       "      <td>yes</td>\n",
       "    </tr>\n",
       "    <tr>\n",
       "      <th rowspan=\"2\" valign=\"top\">12</th>\n",
       "      <th>0</th>\n",
       "      <td>0</td>\n",
       "      <td>('Now', 'RB')</td>\n",
       "      <td>RB</td>\n",
       "      <td>Now</td>\n",
       "      <td>now</td>\n",
       "    </tr>\n",
       "    <tr>\n",
       "      <th>0</th>\n",
       "      <td>1</td>\n",
       "      <td>('what', 'WP')</td>\n",
       "      <td>WP</td>\n",
       "      <td>what</td>\n",
       "      <td>what</td>\n",
       "    </tr>\n",
       "  </tbody>\n",
       "</table>\n",
       "<p>204317 rows × 5 columns</p>\n",
       "</div>"
      ],
      "text/plain": [
       "                                              token_num         pos_tuple  \\\n",
       "movie_id Action_number Dialogue_num sent_num                                \n",
       "m1       1.0           0            0                 0    ('Mama', 'NN')   \n",
       "                       1            0                 0     ('We', 'PRP')   \n",
       "                                    0                 1   ('know', 'VBP')   \n",
       "                                    1                 0   ('Jyn,', 'NNP')   \n",
       "                                    1                 1  ('gather', 'CC')   \n",
       "...                                                 ...               ...   \n",
       "m24      279.0         10           0                 1    ('did', 'VBD')   \n",
       "                                    0                 2     ('it', 'PRP')   \n",
       "                       11           0                 0     ('Yes', 'UH')   \n",
       "                       12           0                 0     ('Now', 'RB')   \n",
       "                                    0                 1    ('what', 'WP')   \n",
       "\n",
       "                                              pos token_str term_str  \n",
       "movie_id Action_number Dialogue_num sent_num                          \n",
       "m1       1.0           0            0          NN      Mama     mama  \n",
       "                       1            0         PRP        We       we  \n",
       "                                    0         VBP      know     know  \n",
       "                                    1         NNP      Jyn,      jyn  \n",
       "                                    1          CC    gather   gather  \n",
       "...                                           ...       ...      ...  \n",
       "m24      279.0         10           0         VBD       did      did  \n",
       "                                    0         PRP        it       it  \n",
       "                       11           0          UH       Yes      yes  \n",
       "                       12           0          RB       Now      now  \n",
       "                                    0          WP      what     what  \n",
       "\n",
       "[204317 rows x 5 columns]"
      ]
     },
     "execution_count": 6,
     "metadata": {},
     "output_type": "execute_result"
    }
   ],
   "source": [
    "TOKENS"
   ]
  },
  {
   "cell_type": "markdown",
   "metadata": {},
   "source": [
    "## create vocab from tokens"
   ]
  },
  {
   "cell_type": "code",
   "execution_count": 7,
   "metadata": {
    "ExecuteTime": {
     "end_time": "2021-05-05T15:55:07.469715Z",
     "start_time": "2021-05-05T15:55:07.392709Z"
    }
   },
   "outputs": [],
   "source": [
    "VOCAB = TOKENS.term_str.value_counts().to_frame()\\\n",
    "    .rename(columns={'index':'term_str', 'term_str':'n'})\\\n",
    "    .sort_index().reset_index().rename(columns={'index':'term_str'})\n",
    "VOCAB.index.name = 'term_id'\n",
    "\n",
    "VOCAB['num'] = VOCAB.term_str.str.match(\"\\d+\").astype('int')"
   ]
  },
  {
   "cell_type": "markdown",
   "metadata": {},
   "source": [
    "### add stop words"
   ]
  },
  {
   "cell_type": "code",
   "execution_count": 8,
   "metadata": {
    "ExecuteTime": {
     "end_time": "2021-05-05T15:55:07.517706Z",
     "start_time": "2021-05-05T15:55:07.476711Z"
    }
   },
   "outputs": [],
   "source": [
    "sw = pd.DataFrame(nltk.corpus.stopwords.words('english'), columns=['term_str'])\n",
    "sw = sw.reset_index().set_index('term_str')\n",
    "sw.columns = ['dummy']\n",
    "sw.dummy = 1\n",
    "\n",
    "VOCAB['stop'] = VOCAB.term_str.map(sw.dummy)\n",
    "VOCAB['stop'] = VOCAB['stop'].fillna(0).astype('int')"
   ]
  },
  {
   "cell_type": "markdown",
   "metadata": {},
   "source": [
    "### add pos _ max"
   ]
  },
  {
   "cell_type": "code",
   "execution_count": 9,
   "metadata": {
    "ExecuteTime": {
     "end_time": "2021-05-05T15:55:07.610964Z",
     "start_time": "2021-05-05T15:55:07.520707Z"
    }
   },
   "outputs": [],
   "source": [
    "M = TOKENS.groupby(['term_str','pos']).pos.count().unstack(fill_value=0)"
   ]
  },
  {
   "cell_type": "code",
   "execution_count": 10,
   "metadata": {
    "ExecuteTime": {
     "end_time": "2021-05-05T15:55:07.658837Z",
     "start_time": "2021-05-05T15:55:07.612715Z"
    }
   },
   "outputs": [],
   "source": [
    "VOCAB = VOCAB.reset_index().set_index('term_str')\n",
    "VOCAB['pos_max'] = M.idxmax(1)\n",
    "VOCAB = VOCAB.reset_index().set_index('term_id')"
   ]
  },
  {
   "cell_type": "markdown",
   "metadata": {},
   "source": [
    "## create vocab stats"
   ]
  },
  {
   "cell_type": "code",
   "execution_count": 11,
   "metadata": {
    "ExecuteTime": {
     "end_time": "2021-05-05T15:55:07.674724Z",
     "start_time": "2021-05-05T15:55:07.663756Z"
    }
   },
   "outputs": [],
   "source": [
    "N_vocab = VOCAB.shape[0]\n",
    "U_vocab = 1/N_vocab"
   ]
  },
  {
   "cell_type": "code",
   "execution_count": 12,
   "metadata": {
    "ExecuteTime": {
     "end_time": "2021-05-05T15:55:07.753839Z",
     "start_time": "2021-05-05T15:55:07.679710Z"
    }
   },
   "outputs": [],
   "source": [
    "VOCAB['p'] = VOCAB.n / VOCAB.n.sum()  # Probability\n",
    "VOCAB['s'] = 1 / VOCAB.p              # Surprise\n",
    "VOCAB['i'] = np.log2(VOCAB.s)         # Information\n",
    "VOCAB['h'] = VOCAB.p * VOCAB.i        # Entropy"
   ]
  },
  {
   "cell_type": "code",
   "execution_count": 13,
   "metadata": {
    "ExecuteTime": {
     "end_time": "2021-05-05T15:55:07.769743Z",
     "start_time": "2021-05-05T15:55:07.754744Z"
    }
   },
   "outputs": [],
   "source": [
    "VOCAB.set_index('term_str',inplace=True)"
   ]
  },
  {
   "cell_type": "code",
   "execution_count": 14,
   "metadata": {
    "ExecuteTime": {
     "end_time": "2021-05-05T15:55:07.785709Z",
     "start_time": "2021-05-05T15:55:07.771710Z"
    }
   },
   "outputs": [],
   "source": [
    "VOCAB['wlen'] = VOCAB.index.str.len()"
   ]
  },
  {
   "cell_type": "markdown",
   "metadata": {},
   "source": [
    "## add TF"
   ]
  },
  {
   "cell_type": "code",
   "execution_count": 15,
   "metadata": {
    "ExecuteTime": {
     "end_time": "2021-05-05T15:55:07.801746Z",
     "start_time": "2021-05-05T15:55:07.787710Z"
    }
   },
   "outputs": [
    {
     "data": {
      "text/plain": [
       "['movie_id', 'Action_number']"
      ]
     },
     "execution_count": 15,
     "metadata": {},
     "output_type": "execute_result"
    }
   ],
   "source": [
    "DOC = OHCO[:2] # Chapter\n",
    "DOC"
   ]
  },
  {
   "cell_type": "code",
   "execution_count": 16,
   "metadata": {
    "ExecuteTime": {
     "end_time": "2021-05-05T15:55:07.913004Z",
     "start_time": "2021-05-05T15:55:07.803708Z"
    }
   },
   "outputs": [],
   "source": [
    "BOW = TOKENS.groupby(DOC+['term_str']).term_str.count().to_frame('tf_n')"
   ]
  },
  {
   "cell_type": "code",
   "execution_count": 17,
   "metadata": {
    "ExecuteTime": {
     "end_time": "2021-05-05T15:55:28.044829Z",
     "start_time": "2021-05-05T15:55:07.914743Z"
    }
   },
   "outputs": [],
   "source": [
    "D = BOW.groupby(DOC).tf_n\n",
    "BOW['tf_jp'] = D.apply(lambda x: x / x.sum().sum()) # jp = P(w,d)\n",
    "BOW['tf_cp'] = D.apply(lambda x: x / x.sum()) # cp = P(w|d)\n",
    "BOW['tf_l2'] = D.apply(lambda x: x / np.sqrt((x**2).sum()))\n",
    "BOW['tf_logn'] = D.apply(lambda x: np.log2(1 + x))\n",
    "BOW['tf_sub'] = D.apply(lambda x: 1 + np.log2(x)) # Sublinear scaling; from Manning, et al.\n",
    "BOW['tf_max'] = D.apply(lambda x: .4 + .6 * (x / x.max())) # See Manning, et al. for choice of α\n",
    "BOW['tf_bool'] = D.apply(lambda x: x.astype('bool') / x.astype('bool').sum())"
   ]
  },
  {
   "cell_type": "code",
   "execution_count": 18,
   "metadata": {
    "ExecuteTime": {
     "end_time": "2021-05-05T15:55:28.060711Z",
     "start_time": "2021-05-05T15:55:28.049748Z"
    }
   },
   "outputs": [],
   "source": [
    "tf_types = [col.split('_')[1] for col in BOW.columns.to_list() if 'tf_' in col]"
   ]
  },
  {
   "cell_type": "code",
   "execution_count": 19,
   "metadata": {
    "ExecuteTime": {
     "end_time": "2021-05-05T15:55:28.107709Z",
     "start_time": "2021-05-05T15:55:28.063711Z"
    },
    "scrolled": true
   },
   "outputs": [
    {
     "data": {
      "text/html": [
       "<div>\n",
       "<style scoped>\n",
       "    .dataframe tbody tr th:only-of-type {\n",
       "        vertical-align: middle;\n",
       "    }\n",
       "\n",
       "    .dataframe tbody tr th {\n",
       "        vertical-align: top;\n",
       "    }\n",
       "\n",
       "    .dataframe thead th {\n",
       "        text-align: right;\n",
       "    }\n",
       "</style>\n",
       "<table border=\"1\" class=\"dataframe\">\n",
       "  <thead>\n",
       "    <tr style=\"text-align: right;\">\n",
       "      <th></th>\n",
       "      <th></th>\n",
       "      <th></th>\n",
       "      <th>tf_n</th>\n",
       "      <th>tf_jp</th>\n",
       "      <th>tf_cp</th>\n",
       "      <th>tf_l2</th>\n",
       "      <th>tf_logn</th>\n",
       "      <th>tf_sub</th>\n",
       "      <th>tf_max</th>\n",
       "      <th>tf_bool</th>\n",
       "    </tr>\n",
       "    <tr>\n",
       "      <th>movie_id</th>\n",
       "      <th>Action_number</th>\n",
       "      <th>term_str</th>\n",
       "      <th></th>\n",
       "      <th></th>\n",
       "      <th></th>\n",
       "      <th></th>\n",
       "      <th></th>\n",
       "      <th></th>\n",
       "      <th></th>\n",
       "      <th></th>\n",
       "    </tr>\n",
       "  </thead>\n",
       "  <tbody>\n",
       "    <tr>\n",
       "      <th rowspan=\"5\" valign=\"top\">m1</th>\n",
       "      <th rowspan=\"5\" valign=\"top\">1.0</th>\n",
       "      <th>gather</th>\n",
       "      <td>1</td>\n",
       "      <td>0.111111</td>\n",
       "      <td>0.111111</td>\n",
       "      <td>0.333333</td>\n",
       "      <td>1.0</td>\n",
       "      <td>1.0</td>\n",
       "      <td>1.0</td>\n",
       "      <td>0.111111</td>\n",
       "    </tr>\n",
       "    <tr>\n",
       "      <th>its</th>\n",
       "      <td>1</td>\n",
       "      <td>0.111111</td>\n",
       "      <td>0.111111</td>\n",
       "      <td>0.333333</td>\n",
       "      <td>1.0</td>\n",
       "      <td>1.0</td>\n",
       "      <td>1.0</td>\n",
       "      <td>0.111111</td>\n",
       "    </tr>\n",
       "    <tr>\n",
       "      <th>jyn</th>\n",
       "      <td>1</td>\n",
       "      <td>0.111111</td>\n",
       "      <td>0.111111</td>\n",
       "      <td>0.333333</td>\n",
       "      <td>1.0</td>\n",
       "      <td>1.0</td>\n",
       "      <td>1.0</td>\n",
       "      <td>0.111111</td>\n",
       "    </tr>\n",
       "    <tr>\n",
       "      <th>know</th>\n",
       "      <td>1</td>\n",
       "      <td>0.111111</td>\n",
       "      <td>0.111111</td>\n",
       "      <td>0.333333</td>\n",
       "      <td>1.0</td>\n",
       "      <td>1.0</td>\n",
       "      <td>1.0</td>\n",
       "      <td>0.111111</td>\n",
       "    </tr>\n",
       "    <tr>\n",
       "      <th>mama</th>\n",
       "      <td>1</td>\n",
       "      <td>0.111111</td>\n",
       "      <td>0.111111</td>\n",
       "      <td>0.333333</td>\n",
       "      <td>1.0</td>\n",
       "      <td>1.0</td>\n",
       "      <td>1.0</td>\n",
       "      <td>0.111111</td>\n",
       "    </tr>\n",
       "    <tr>\n",
       "      <th>...</th>\n",
       "      <th>...</th>\n",
       "      <th>...</th>\n",
       "      <td>...</td>\n",
       "      <td>...</td>\n",
       "      <td>...</td>\n",
       "      <td>...</td>\n",
       "      <td>...</td>\n",
       "      <td>...</td>\n",
       "      <td>...</td>\n",
       "      <td>...</td>\n",
       "    </tr>\n",
       "    <tr>\n",
       "      <th rowspan=\"5\" valign=\"top\">m9</th>\n",
       "      <th>277.0</th>\n",
       "      <th>red</th>\n",
       "      <td>1</td>\n",
       "      <td>0.200000</td>\n",
       "      <td>0.200000</td>\n",
       "      <td>0.447214</td>\n",
       "      <td>1.0</td>\n",
       "      <td>1.0</td>\n",
       "      <td>1.0</td>\n",
       "      <td>0.200000</td>\n",
       "    </tr>\n",
       "    <tr>\n",
       "      <th>278.0</th>\n",
       "      <th>hill</th>\n",
       "      <td>1</td>\n",
       "      <td>1.000000</td>\n",
       "      <td>1.000000</td>\n",
       "      <td>1.000000</td>\n",
       "      <td>1.0</td>\n",
       "      <td>1.0</td>\n",
       "      <td>1.0</td>\n",
       "      <td>1.000000</td>\n",
       "    </tr>\n",
       "    <tr>\n",
       "      <th rowspan=\"3\" valign=\"top\">279.0</th>\n",
       "      <th>motherf</th>\n",
       "      <td>1</td>\n",
       "      <td>0.333333</td>\n",
       "      <td>0.333333</td>\n",
       "      <td>0.577350</td>\n",
       "      <td>1.0</td>\n",
       "      <td>1.0</td>\n",
       "      <td>1.0</td>\n",
       "      <td>0.333333</td>\n",
       "    </tr>\n",
       "    <tr>\n",
       "      <th>no</th>\n",
       "      <td>1</td>\n",
       "      <td>0.333333</td>\n",
       "      <td>0.333333</td>\n",
       "      <td>0.577350</td>\n",
       "      <td>1.0</td>\n",
       "      <td>1.0</td>\n",
       "      <td>1.0</td>\n",
       "      <td>0.333333</td>\n",
       "    </tr>\n",
       "    <tr>\n",
       "      <th>oh</th>\n",
       "      <td>1</td>\n",
       "      <td>0.333333</td>\n",
       "      <td>0.333333</td>\n",
       "      <td>0.577350</td>\n",
       "      <td>1.0</td>\n",
       "      <td>1.0</td>\n",
       "      <td>1.0</td>\n",
       "      <td>0.333333</td>\n",
       "    </tr>\n",
       "  </tbody>\n",
       "</table>\n",
       "<p>145313 rows × 8 columns</p>\n",
       "</div>"
      ],
      "text/plain": [
       "                                 tf_n     tf_jp     tf_cp     tf_l2  tf_logn  \\\n",
       "movie_id Action_number term_str                                                \n",
       "m1       1.0           gather       1  0.111111  0.111111  0.333333      1.0   \n",
       "                       its          1  0.111111  0.111111  0.333333      1.0   \n",
       "                       jyn          1  0.111111  0.111111  0.333333      1.0   \n",
       "                       know         1  0.111111  0.111111  0.333333      1.0   \n",
       "                       mama         1  0.111111  0.111111  0.333333      1.0   \n",
       "...                               ...       ...       ...       ...      ...   \n",
       "m9       277.0         red          1  0.200000  0.200000  0.447214      1.0   \n",
       "         278.0         hill         1  1.000000  1.000000  1.000000      1.0   \n",
       "         279.0         motherf      1  0.333333  0.333333  0.577350      1.0   \n",
       "                       no           1  0.333333  0.333333  0.577350      1.0   \n",
       "                       oh           1  0.333333  0.333333  0.577350      1.0   \n",
       "\n",
       "                                 tf_sub  tf_max   tf_bool  \n",
       "movie_id Action_number term_str                            \n",
       "m1       1.0           gather       1.0     1.0  0.111111  \n",
       "                       its          1.0     1.0  0.111111  \n",
       "                       jyn          1.0     1.0  0.111111  \n",
       "                       know         1.0     1.0  0.111111  \n",
       "                       mama         1.0     1.0  0.111111  \n",
       "...                                 ...     ...       ...  \n",
       "m9       277.0         red          1.0     1.0  0.200000  \n",
       "         278.0         hill         1.0     1.0  1.000000  \n",
       "         279.0         motherf      1.0     1.0  0.333333  \n",
       "                       no           1.0     1.0  0.333333  \n",
       "                       oh           1.0     1.0  0.333333  \n",
       "\n",
       "[145313 rows x 8 columns]"
      ]
     },
     "execution_count": 19,
     "metadata": {},
     "output_type": "execute_result"
    }
   ],
   "source": [
    "BOW"
   ]
  },
  {
   "cell_type": "markdown",
   "metadata": {},
   "source": [
    "### add df and idf"
   ]
  },
  {
   "cell_type": "code",
   "execution_count": 20,
   "metadata": {
    "ExecuteTime": {
     "end_time": "2021-05-05T15:55:28.550989Z",
     "start_time": "2021-05-05T15:55:28.110708Z"
    }
   },
   "outputs": [],
   "source": [
    "VOCAB['df'] = BOW.groupby('term_str').tf_n.count()\n",
    "N_docs = len(D.groups)\n",
    "VOCAB['idf'] = np.log2(N_docs/VOCAB.df)"
   ]
  },
  {
   "cell_type": "code",
   "execution_count": 21,
   "metadata": {
    "ExecuteTime": {
     "end_time": "2021-05-05T15:55:28.741292Z",
     "start_time": "2021-05-05T15:55:28.552723Z"
    }
   },
   "outputs": [],
   "source": [
    "for tf_type in tf_types:\n",
    "    BOW[f'tfidf_{tf_type}'] = BOW[f'tf_{tf_type}'] * VOCAB.idf"
   ]
  },
  {
   "cell_type": "code",
   "execution_count": 22,
   "metadata": {
    "ExecuteTime": {
     "end_time": "2021-05-05T15:55:28.772446Z",
     "start_time": "2021-05-05T15:55:28.745448Z"
    },
    "scrolled": true
   },
   "outputs": [
    {
     "data": {
      "text/html": [
       "<div>\n",
       "<style scoped>\n",
       "    .dataframe tbody tr th:only-of-type {\n",
       "        vertical-align: middle;\n",
       "    }\n",
       "\n",
       "    .dataframe tbody tr th {\n",
       "        vertical-align: top;\n",
       "    }\n",
       "\n",
       "    .dataframe thead th {\n",
       "        text-align: right;\n",
       "    }\n",
       "</style>\n",
       "<table border=\"1\" class=\"dataframe\">\n",
       "  <thead>\n",
       "    <tr style=\"text-align: right;\">\n",
       "      <th></th>\n",
       "      <th></th>\n",
       "      <th></th>\n",
       "      <th>tf_n</th>\n",
       "      <th>tf_jp</th>\n",
       "      <th>tf_cp</th>\n",
       "      <th>tf_l2</th>\n",
       "      <th>tf_logn</th>\n",
       "      <th>tf_sub</th>\n",
       "      <th>tf_max</th>\n",
       "      <th>tf_bool</th>\n",
       "      <th>tfidf_n</th>\n",
       "      <th>tfidf_jp</th>\n",
       "      <th>tfidf_cp</th>\n",
       "      <th>tfidf_l2</th>\n",
       "      <th>tfidf_logn</th>\n",
       "      <th>tfidf_sub</th>\n",
       "      <th>tfidf_max</th>\n",
       "      <th>tfidf_bool</th>\n",
       "    </tr>\n",
       "    <tr>\n",
       "      <th>movie_id</th>\n",
       "      <th>Action_number</th>\n",
       "      <th>term_str</th>\n",
       "      <th></th>\n",
       "      <th></th>\n",
       "      <th></th>\n",
       "      <th></th>\n",
       "      <th></th>\n",
       "      <th></th>\n",
       "      <th></th>\n",
       "      <th></th>\n",
       "      <th></th>\n",
       "      <th></th>\n",
       "      <th></th>\n",
       "      <th></th>\n",
       "      <th></th>\n",
       "      <th></th>\n",
       "      <th></th>\n",
       "      <th></th>\n",
       "    </tr>\n",
       "  </thead>\n",
       "  <tbody>\n",
       "    <tr>\n",
       "      <th rowspan=\"5\" valign=\"top\">m1</th>\n",
       "      <th rowspan=\"5\" valign=\"top\">1.0</th>\n",
       "      <th>gather</th>\n",
       "      <td>1</td>\n",
       "      <td>0.111111</td>\n",
       "      <td>0.111111</td>\n",
       "      <td>0.333333</td>\n",
       "      <td>1.0</td>\n",
       "      <td>1.0</td>\n",
       "      <td>1.0</td>\n",
       "      <td>0.111111</td>\n",
       "      <td>10.014299</td>\n",
       "      <td>1.112700</td>\n",
       "      <td>1.112700</td>\n",
       "      <td>3.338100</td>\n",
       "      <td>10.014299</td>\n",
       "      <td>10.014299</td>\n",
       "      <td>10.014299</td>\n",
       "      <td>1.112700</td>\n",
       "    </tr>\n",
       "    <tr>\n",
       "      <th>its</th>\n",
       "      <td>1</td>\n",
       "      <td>0.111111</td>\n",
       "      <td>0.111111</td>\n",
       "      <td>0.333333</td>\n",
       "      <td>1.0</td>\n",
       "      <td>1.0</td>\n",
       "      <td>1.0</td>\n",
       "      <td>0.111111</td>\n",
       "      <td>2.601518</td>\n",
       "      <td>0.289058</td>\n",
       "      <td>0.289058</td>\n",
       "      <td>0.867173</td>\n",
       "      <td>2.601518</td>\n",
       "      <td>2.601518</td>\n",
       "      <td>2.601518</td>\n",
       "      <td>0.289058</td>\n",
       "    </tr>\n",
       "    <tr>\n",
       "      <th>jyn</th>\n",
       "      <td>1</td>\n",
       "      <td>0.111111</td>\n",
       "      <td>0.111111</td>\n",
       "      <td>0.333333</td>\n",
       "      <td>1.0</td>\n",
       "      <td>1.0</td>\n",
       "      <td>1.0</td>\n",
       "      <td>0.111111</td>\n",
       "      <td>8.014299</td>\n",
       "      <td>0.890478</td>\n",
       "      <td>0.890478</td>\n",
       "      <td>2.671433</td>\n",
       "      <td>8.014299</td>\n",
       "      <td>8.014299</td>\n",
       "      <td>8.014299</td>\n",
       "      <td>0.890478</td>\n",
       "    </tr>\n",
       "    <tr>\n",
       "      <th>know</th>\n",
       "      <td>1</td>\n",
       "      <td>0.111111</td>\n",
       "      <td>0.111111</td>\n",
       "      <td>0.333333</td>\n",
       "      <td>1.0</td>\n",
       "      <td>1.0</td>\n",
       "      <td>1.0</td>\n",
       "      <td>0.111111</td>\n",
       "      <td>2.777807</td>\n",
       "      <td>0.308645</td>\n",
       "      <td>0.308645</td>\n",
       "      <td>0.925936</td>\n",
       "      <td>2.777807</td>\n",
       "      <td>2.777807</td>\n",
       "      <td>2.777807</td>\n",
       "      <td>0.308645</td>\n",
       "    </tr>\n",
       "    <tr>\n",
       "      <th>mama</th>\n",
       "      <td>1</td>\n",
       "      <td>0.111111</td>\n",
       "      <td>0.111111</td>\n",
       "      <td>0.333333</td>\n",
       "      <td>1.0</td>\n",
       "      <td>1.0</td>\n",
       "      <td>1.0</td>\n",
       "      <td>0.111111</td>\n",
       "      <td>8.336228</td>\n",
       "      <td>0.926248</td>\n",
       "      <td>0.926248</td>\n",
       "      <td>2.778743</td>\n",
       "      <td>8.336228</td>\n",
       "      <td>8.336228</td>\n",
       "      <td>8.336228</td>\n",
       "      <td>0.926248</td>\n",
       "    </tr>\n",
       "    <tr>\n",
       "      <th>...</th>\n",
       "      <th>...</th>\n",
       "      <th>...</th>\n",
       "      <td>...</td>\n",
       "      <td>...</td>\n",
       "      <td>...</td>\n",
       "      <td>...</td>\n",
       "      <td>...</td>\n",
       "      <td>...</td>\n",
       "      <td>...</td>\n",
       "      <td>...</td>\n",
       "      <td>...</td>\n",
       "      <td>...</td>\n",
       "      <td>...</td>\n",
       "      <td>...</td>\n",
       "      <td>...</td>\n",
       "      <td>...</td>\n",
       "      <td>...</td>\n",
       "      <td>...</td>\n",
       "    </tr>\n",
       "    <tr>\n",
       "      <th rowspan=\"5\" valign=\"top\">m9</th>\n",
       "      <th>277.0</th>\n",
       "      <th>red</th>\n",
       "      <td>1</td>\n",
       "      <td>0.200000</td>\n",
       "      <td>0.200000</td>\n",
       "      <td>0.447214</td>\n",
       "      <td>1.0</td>\n",
       "      <td>1.0</td>\n",
       "      <td>1.0</td>\n",
       "      <td>0.200000</td>\n",
       "      <td>7.291833</td>\n",
       "      <td>1.458367</td>\n",
       "      <td>1.458367</td>\n",
       "      <td>3.261007</td>\n",
       "      <td>7.291833</td>\n",
       "      <td>7.291833</td>\n",
       "      <td>7.291833</td>\n",
       "      <td>1.458367</td>\n",
       "    </tr>\n",
       "    <tr>\n",
       "      <th>278.0</th>\n",
       "      <th>hill</th>\n",
       "      <td>1</td>\n",
       "      <td>1.000000</td>\n",
       "      <td>1.000000</td>\n",
       "      <td>1.000000</td>\n",
       "      <td>1.0</td>\n",
       "      <td>1.0</td>\n",
       "      <td>1.0</td>\n",
       "      <td>1.000000</td>\n",
       "      <td>8.429337</td>\n",
       "      <td>8.429337</td>\n",
       "      <td>8.429337</td>\n",
       "      <td>8.429337</td>\n",
       "      <td>8.429337</td>\n",
       "      <td>8.429337</td>\n",
       "      <td>8.429337</td>\n",
       "      <td>8.429337</td>\n",
       "    </tr>\n",
       "    <tr>\n",
       "      <th rowspan=\"3\" valign=\"top\">279.0</th>\n",
       "      <th>motherf</th>\n",
       "      <td>1</td>\n",
       "      <td>0.333333</td>\n",
       "      <td>0.333333</td>\n",
       "      <td>0.577350</td>\n",
       "      <td>1.0</td>\n",
       "      <td>1.0</td>\n",
       "      <td>1.0</td>\n",
       "      <td>0.333333</td>\n",
       "      <td>12.336228</td>\n",
       "      <td>4.112076</td>\n",
       "      <td>4.112076</td>\n",
       "      <td>7.122324</td>\n",
       "      <td>12.336228</td>\n",
       "      <td>12.336228</td>\n",
       "      <td>12.336228</td>\n",
       "      <td>4.112076</td>\n",
       "    </tr>\n",
       "    <tr>\n",
       "      <th>no</th>\n",
       "      <td>1</td>\n",
       "      <td>0.333333</td>\n",
       "      <td>0.333333</td>\n",
       "      <td>0.577350</td>\n",
       "      <td>1.0</td>\n",
       "      <td>1.0</td>\n",
       "      <td>1.0</td>\n",
       "      <td>0.333333</td>\n",
       "      <td>2.432346</td>\n",
       "      <td>0.810782</td>\n",
       "      <td>0.810782</td>\n",
       "      <td>1.404315</td>\n",
       "      <td>2.432346</td>\n",
       "      <td>2.432346</td>\n",
       "      <td>2.432346</td>\n",
       "      <td>0.810782</td>\n",
       "    </tr>\n",
       "    <tr>\n",
       "      <th>oh</th>\n",
       "      <td>1</td>\n",
       "      <td>0.333333</td>\n",
       "      <td>0.333333</td>\n",
       "      <td>0.577350</td>\n",
       "      <td>1.0</td>\n",
       "      <td>1.0</td>\n",
       "      <td>1.0</td>\n",
       "      <td>0.333333</td>\n",
       "      <td>2.948210</td>\n",
       "      <td>0.982737</td>\n",
       "      <td>0.982737</td>\n",
       "      <td>1.702150</td>\n",
       "      <td>2.948210</td>\n",
       "      <td>2.948210</td>\n",
       "      <td>2.948210</td>\n",
       "      <td>0.982737</td>\n",
       "    </tr>\n",
       "  </tbody>\n",
       "</table>\n",
       "<p>145313 rows × 16 columns</p>\n",
       "</div>"
      ],
      "text/plain": [
       "                                 tf_n     tf_jp     tf_cp     tf_l2  tf_logn  \\\n",
       "movie_id Action_number term_str                                                \n",
       "m1       1.0           gather       1  0.111111  0.111111  0.333333      1.0   \n",
       "                       its          1  0.111111  0.111111  0.333333      1.0   \n",
       "                       jyn          1  0.111111  0.111111  0.333333      1.0   \n",
       "                       know         1  0.111111  0.111111  0.333333      1.0   \n",
       "                       mama         1  0.111111  0.111111  0.333333      1.0   \n",
       "...                               ...       ...       ...       ...      ...   \n",
       "m9       277.0         red          1  0.200000  0.200000  0.447214      1.0   \n",
       "         278.0         hill         1  1.000000  1.000000  1.000000      1.0   \n",
       "         279.0         motherf      1  0.333333  0.333333  0.577350      1.0   \n",
       "                       no           1  0.333333  0.333333  0.577350      1.0   \n",
       "                       oh           1  0.333333  0.333333  0.577350      1.0   \n",
       "\n",
       "                                 tf_sub  tf_max   tf_bool    tfidf_n  \\\n",
       "movie_id Action_number term_str                                        \n",
       "m1       1.0           gather       1.0     1.0  0.111111  10.014299   \n",
       "                       its          1.0     1.0  0.111111   2.601518   \n",
       "                       jyn          1.0     1.0  0.111111   8.014299   \n",
       "                       know         1.0     1.0  0.111111   2.777807   \n",
       "                       mama         1.0     1.0  0.111111   8.336228   \n",
       "...                                 ...     ...       ...        ...   \n",
       "m9       277.0         red          1.0     1.0  0.200000   7.291833   \n",
       "         278.0         hill         1.0     1.0  1.000000   8.429337   \n",
       "         279.0         motherf      1.0     1.0  0.333333  12.336228   \n",
       "                       no           1.0     1.0  0.333333   2.432346   \n",
       "                       oh           1.0     1.0  0.333333   2.948210   \n",
       "\n",
       "                                 tfidf_jp  tfidf_cp  tfidf_l2  tfidf_logn  \\\n",
       "movie_id Action_number term_str                                             \n",
       "m1       1.0           gather    1.112700  1.112700  3.338100   10.014299   \n",
       "                       its       0.289058  0.289058  0.867173    2.601518   \n",
       "                       jyn       0.890478  0.890478  2.671433    8.014299   \n",
       "                       know      0.308645  0.308645  0.925936    2.777807   \n",
       "                       mama      0.926248  0.926248  2.778743    8.336228   \n",
       "...                                   ...       ...       ...         ...   \n",
       "m9       277.0         red       1.458367  1.458367  3.261007    7.291833   \n",
       "         278.0         hill      8.429337  8.429337  8.429337    8.429337   \n",
       "         279.0         motherf   4.112076  4.112076  7.122324   12.336228   \n",
       "                       no        0.810782  0.810782  1.404315    2.432346   \n",
       "                       oh        0.982737  0.982737  1.702150    2.948210   \n",
       "\n",
       "                                 tfidf_sub  tfidf_max  tfidf_bool  \n",
       "movie_id Action_number term_str                                    \n",
       "m1       1.0           gather    10.014299  10.014299    1.112700  \n",
       "                       its        2.601518   2.601518    0.289058  \n",
       "                       jyn        8.014299   8.014299    0.890478  \n",
       "                       know       2.777807   2.777807    0.308645  \n",
       "                       mama       8.336228   8.336228    0.926248  \n",
       "...                                    ...        ...         ...  \n",
       "m9       277.0         red        7.291833   7.291833    1.458367  \n",
       "         278.0         hill       8.429337   8.429337    8.429337  \n",
       "         279.0         motherf   12.336228  12.336228    4.112076  \n",
       "                       no         2.432346   2.432346    0.810782  \n",
       "                       oh         2.948210   2.948210    0.982737  \n",
       "\n",
       "[145313 rows x 16 columns]"
      ]
     },
     "execution_count": 22,
     "metadata": {},
     "output_type": "execute_result"
    }
   ],
   "source": [
    "BOW"
   ]
  },
  {
   "cell_type": "markdown",
   "metadata": {},
   "source": [
    "### get the tfidf_sums"
   ]
  },
  {
   "cell_type": "code",
   "execution_count": 23,
   "metadata": {
    "ExecuteTime": {
     "end_time": "2021-05-05T15:55:28.956573Z",
     "start_time": "2021-05-05T15:55:28.777448Z"
    }
   },
   "outputs": [],
   "source": [
    "for tf_type in tf_types:\n",
    "    col = f\"tfidf_{tf_type}\"\n",
    "    VOCAB[col + \"_sum\"] = BOW.groupby('term_str')[col].sum()\n",
    "    VOCAB[col + \"_sum\"] = (VOCAB[col + \"_sum\"] - VOCAB[col + \"_sum\"].mean()) / VOCAB[col + \"_sum\"].std()\n",
    "    VOCAB[col + \"_sum\"] = VOCAB[col + \"_sum\"] - VOCAB[col + \"_sum\"].min() \n",
    "    VOCAB[col + \"_sum\"] = VOCAB[col + \"_sum\"] / N_docs"
   ]
  },
  {
   "cell_type": "code",
   "execution_count": 24,
   "metadata": {
    "ExecuteTime": {
     "end_time": "2021-05-05T15:55:28.977464Z",
     "start_time": "2021-05-05T15:55:28.959454Z"
    }
   },
   "outputs": [],
   "source": [
    "tfidf_sum_cols = [f\"tfidf_{type}_sum\" for type in tf_types]"
   ]
  },
  {
   "cell_type": "code",
   "execution_count": 25,
   "metadata": {
    "ExecuteTime": {
     "end_time": "2021-05-05T15:55:29.023931Z",
     "start_time": "2021-05-05T15:55:28.982455Z"
    },
    "scrolled": false
   },
   "outputs": [
    {
     "data": {
      "text/html": [
       "<div>\n",
       "<style scoped>\n",
       "    .dataframe tbody tr th:only-of-type {\n",
       "        vertical-align: middle;\n",
       "    }\n",
       "\n",
       "    .dataframe tbody tr th {\n",
       "        vertical-align: top;\n",
       "    }\n",
       "\n",
       "    .dataframe thead th {\n",
       "        text-align: right;\n",
       "    }\n",
       "</style>\n",
       "<table border=\"1\" class=\"dataframe\">\n",
       "  <thead>\n",
       "    <tr style=\"text-align: right;\">\n",
       "      <th></th>\n",
       "      <th>n</th>\n",
       "      <th>num</th>\n",
       "      <th>stop</th>\n",
       "      <th>pos_max</th>\n",
       "      <th>p</th>\n",
       "      <th>s</th>\n",
       "      <th>i</th>\n",
       "      <th>h</th>\n",
       "      <th>wlen</th>\n",
       "      <th>df</th>\n",
       "      <th>idf</th>\n",
       "      <th>tfidf_n_sum</th>\n",
       "      <th>tfidf_jp_sum</th>\n",
       "      <th>tfidf_cp_sum</th>\n",
       "      <th>tfidf_l2_sum</th>\n",
       "      <th>tfidf_logn_sum</th>\n",
       "      <th>tfidf_sub_sum</th>\n",
       "      <th>tfidf_max_sum</th>\n",
       "      <th>tfidf_bool_sum</th>\n",
       "    </tr>\n",
       "    <tr>\n",
       "      <th>term_str</th>\n",
       "      <th></th>\n",
       "      <th></th>\n",
       "      <th></th>\n",
       "      <th></th>\n",
       "      <th></th>\n",
       "      <th></th>\n",
       "      <th></th>\n",
       "      <th></th>\n",
       "      <th></th>\n",
       "      <th></th>\n",
       "      <th></th>\n",
       "      <th></th>\n",
       "      <th></th>\n",
       "      <th></th>\n",
       "      <th></th>\n",
       "      <th></th>\n",
       "      <th></th>\n",
       "      <th></th>\n",
       "      <th></th>\n",
       "    </tr>\n",
       "  </thead>\n",
       "  <tbody>\n",
       "    <tr>\n",
       "      <th>rings</th>\n",
       "      <td>3</td>\n",
       "      <td>0</td>\n",
       "      <td>0</td>\n",
       "      <td>NNS</td>\n",
       "      <td>0.000015</td>\n",
       "      <td>67824.666667</td>\n",
       "      <td>16.049522</td>\n",
       "      <td>0.000237</td>\n",
       "      <td>5</td>\n",
       "      <td>3</td>\n",
       "      <td>10.751265</td>\n",
       "      <td>0.000013</td>\n",
       "      <td>3.953253e-05</td>\n",
       "      <td>3.953253e-05</td>\n",
       "      <td>3.823994e-05</td>\n",
       "      <td>0.000016</td>\n",
       "      <td>0.000015</td>\n",
       "      <td>2.548305e-05</td>\n",
       "      <td>4.568841e-05</td>\n",
       "    </tr>\n",
       "    <tr>\n",
       "      <th>fractals</th>\n",
       "      <td>1</td>\n",
       "      <td>0</td>\n",
       "      <td>0</td>\n",
       "      <td>NNS</td>\n",
       "      <td>0.000005</td>\n",
       "      <td>203474.000000</td>\n",
       "      <td>17.634485</td>\n",
       "      <td>0.000087</td>\n",
       "      <td>8</td>\n",
       "      <td>1</td>\n",
       "      <td>12.336228</td>\n",
       "      <td>0.000000</td>\n",
       "      <td>4.261793e-07</td>\n",
       "      <td>4.261793e-07</td>\n",
       "      <td>8.301335e-07</td>\n",
       "      <td>0.000000</td>\n",
       "      <td>0.000000</td>\n",
       "      <td>2.638225e-07</td>\n",
       "      <td>6.960198e-07</td>\n",
       "    </tr>\n",
       "    <tr>\n",
       "      <th>aunt</th>\n",
       "      <td>10</td>\n",
       "      <td>0</td>\n",
       "      <td>0</td>\n",
       "      <td>NNP</td>\n",
       "      <td>0.000049</td>\n",
       "      <td>20347.400000</td>\n",
       "      <td>14.312557</td>\n",
       "      <td>0.000703</td>\n",
       "      <td>4</td>\n",
       "      <td>7</td>\n",
       "      <td>9.528873</td>\n",
       "      <td>0.000053</td>\n",
       "      <td>2.658967e-05</td>\n",
       "      <td>2.658967e-05</td>\n",
       "      <td>3.967516e-05</td>\n",
       "      <td>0.000055</td>\n",
       "      <td>0.000054</td>\n",
       "      <td>5.065491e-05</td>\n",
       "      <td>3.081192e-05</td>\n",
       "    </tr>\n",
       "    <tr>\n",
       "      <th>d</th>\n",
       "      <td>12</td>\n",
       "      <td>0</td>\n",
       "      <td>1</td>\n",
       "      <td>NN</td>\n",
       "      <td>0.000059</td>\n",
       "      <td>16956.166667</td>\n",
       "      <td>14.049522</td>\n",
       "      <td>0.000829</td>\n",
       "      <td>1</td>\n",
       "      <td>11</td>\n",
       "      <td>8.876796</td>\n",
       "      <td>0.000061</td>\n",
       "      <td>1.003222e-04</td>\n",
       "      <td>1.003222e-04</td>\n",
       "      <td>1.046657e-04</td>\n",
       "      <td>0.000074</td>\n",
       "      <td>0.000069</td>\n",
       "      <td>9.844250e-05</td>\n",
       "      <td>1.113262e-04</td>\n",
       "    </tr>\n",
       "    <tr>\n",
       "      <th>child</th>\n",
       "      <td>43</td>\n",
       "      <td>0</td>\n",
       "      <td>0</td>\n",
       "      <td>NN</td>\n",
       "      <td>0.000211</td>\n",
       "      <td>4731.953488</td>\n",
       "      <td>12.208220</td>\n",
       "      <td>0.002580</td>\n",
       "      <td>5</td>\n",
       "      <td>40</td>\n",
       "      <td>7.014299</td>\n",
       "      <td>0.000186</td>\n",
       "      <td>3.220232e-04</td>\n",
       "      <td>3.220232e-04</td>\n",
       "      <td>2.792639e-04</td>\n",
       "      <td>0.000230</td>\n",
       "      <td>0.000212</td>\n",
       "      <td>2.741263e-04</td>\n",
       "      <td>3.644853e-04</td>\n",
       "    </tr>\n",
       "  </tbody>\n",
       "</table>\n",
       "</div>"
      ],
      "text/plain": [
       "           n  num  stop pos_max         p              s          i         h  \\\n",
       "term_str                                                                        \n",
       "rings      3    0     0     NNS  0.000015   67824.666667  16.049522  0.000237   \n",
       "fractals   1    0     0     NNS  0.000005  203474.000000  17.634485  0.000087   \n",
       "aunt      10    0     0     NNP  0.000049   20347.400000  14.312557  0.000703   \n",
       "d         12    0     1      NN  0.000059   16956.166667  14.049522  0.000829   \n",
       "child     43    0     0      NN  0.000211    4731.953488  12.208220  0.002580   \n",
       "\n",
       "          wlen  df        idf  tfidf_n_sum  tfidf_jp_sum  tfidf_cp_sum  \\\n",
       "term_str                                                                 \n",
       "rings        5   3  10.751265     0.000013  3.953253e-05  3.953253e-05   \n",
       "fractals     8   1  12.336228     0.000000  4.261793e-07  4.261793e-07   \n",
       "aunt         4   7   9.528873     0.000053  2.658967e-05  2.658967e-05   \n",
       "d            1  11   8.876796     0.000061  1.003222e-04  1.003222e-04   \n",
       "child        5  40   7.014299     0.000186  3.220232e-04  3.220232e-04   \n",
       "\n",
       "          tfidf_l2_sum  tfidf_logn_sum  tfidf_sub_sum  tfidf_max_sum  \\\n",
       "term_str                                                               \n",
       "rings     3.823994e-05        0.000016       0.000015   2.548305e-05   \n",
       "fractals  8.301335e-07        0.000000       0.000000   2.638225e-07   \n",
       "aunt      3.967516e-05        0.000055       0.000054   5.065491e-05   \n",
       "d         1.046657e-04        0.000074       0.000069   9.844250e-05   \n",
       "child     2.792639e-04        0.000230       0.000212   2.741263e-04   \n",
       "\n",
       "          tfidf_bool_sum  \n",
       "term_str                  \n",
       "rings       4.568841e-05  \n",
       "fractals    6.960198e-07  \n",
       "aunt        3.081192e-05  \n",
       "d           1.113262e-04  \n",
       "child       3.644853e-04  "
      ]
     },
     "execution_count": 25,
     "metadata": {},
     "output_type": "execute_result"
    }
   ],
   "source": [
    "VOCAB.sample(5)"
   ]
  },
  {
   "cell_type": "markdown",
   "metadata": {},
   "source": [
    "## write out"
   ]
  },
  {
   "cell_type": "code",
   "execution_count": 26,
   "metadata": {
    "ExecuteTime": {
     "end_time": "2021-05-05T15:55:29.326786Z",
     "start_time": "2021-05-05T15:55:29.027787Z"
    }
   },
   "outputs": [],
   "source": [
    "VOCAB.to_csv('{}/{}-VOCAB.csv'.format(data_out,data_prefix))"
   ]
  }
 ],
 "metadata": {
  "kernelspec": {
   "display_name": "Python 3",
   "language": "python",
   "name": "python3"
  },
  "language_info": {
   "codemirror_mode": {
    "name": "ipython",
    "version": 3
   },
   "file_extension": ".py",
   "mimetype": "text/x-python",
   "name": "python",
   "nbconvert_exporter": "python",
   "pygments_lexer": "ipython3",
   "version": "3.7.7"
  },
  "toc": {
   "base_numbering": 1,
   "nav_menu": {},
   "number_sections": true,
   "sideBar": true,
   "skip_h1_title": true,
   "title_cell": "Table of Contents",
   "title_sidebar": "Contents",
   "toc_cell": false,
   "toc_position": {},
   "toc_section_display": true,
   "toc_window_display": true
  },
  "varInspector": {
   "cols": {
    "lenName": 16,
    "lenType": 16,
    "lenVar": 40
   },
   "kernels_config": {
    "python": {
     "delete_cmd_postfix": "",
     "delete_cmd_prefix": "del ",
     "library": "var_list.py",
     "varRefreshCmd": "print(var_dic_list())"
    },
    "r": {
     "delete_cmd_postfix": ") ",
     "delete_cmd_prefix": "rm(",
     "library": "var_list.r",
     "varRefreshCmd": "cat(var_dic_list()) "
    }
   },
   "types_to_exclude": [
    "module",
    "function",
    "builtin_function_or_method",
    "instance",
    "_Feature"
   ],
   "window_display": false
  }
 },
 "nbformat": 4,
 "nbformat_minor": 4
}
