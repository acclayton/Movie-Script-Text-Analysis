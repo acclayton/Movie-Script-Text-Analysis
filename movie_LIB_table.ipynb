{
 "cells": [
  {
   "cell_type": "markdown",
   "metadata": {
    "ExecuteTime": {
     "end_time": "2021-05-06T19:17:21.179991Z",
     "start_time": "2021-05-06T19:17:21.169962Z"
    }
   },
   "source": [
    "* Cory Clayton (acc2ds@virginia.edu)\n",
    "- DS5001\n",
    "- 6 May 2021\n"
   ]
  },
  {
   "cell_type": "markdown",
   "metadata": {},
   "source": [
    "# Produce and save the Lib table"
   ]
  },
  {
   "cell_type": "code",
   "execution_count": null,
   "metadata": {
    "id": "pQv9uI-zvhCV"
   },
   "outputs": [],
   "source": [
    "from bs4 import BeautifulSoup"
   ]
  },
  {
   "cell_type": "code",
   "execution_count": null,
   "metadata": {
    "id": "dVg6fpsbvnSS"
   },
   "outputs": [],
   "source": [
    "import requests\n",
    "import json\n",
    "import re"
   ]
  },
  {
   "cell_type": "code",
   "execution_count": null,
   "metadata": {
    "id": "bO9Wgb38uL0b"
   },
   "outputs": [],
   "source": [
    "with open('LIB.csv','w') as f:\n",
    "  f.write(\"movie_id,name,studio,director,genre,year\\n\")\n",
    "  f.write\n",
    "  f.close()"
   ]
  },
  {
   "cell_type": "code",
   "execution_count": null,
   "metadata": {
    "id": "bPFU1HHHurln"
   },
   "outputs": [],
   "source": [
    "def get_movie_details(link,id):\n",
    "  m=requests.get(link)\n",
    "  movie=BeautifulSoup(m.content,'html')\n",
    "  info=movie.find('div',{'id':'tab-details'})\n",
    "  studio=info.find_all('a')[0].text\n",
    "  metadata=movie.find(\"script\",{'type':'application/ld+json'}).text\n",
    "  movie_expr=re.compile(\"({[\\W\\w]+})\")\n",
    "  movie_info=re.findall(movie_expr,metadata)[0]\n",
    "  movie_dict=json.loads(str(movie_info))\n",
    "  mid=f\"m{id}\"\n",
    "  name=movie_dict['name']\n",
    "  studio=movie_dict['productionCompany'][0]['name']\n",
    "  if studio ==\"Walt Disney Pictures\":\n",
    "    studio=movie_dict['productionCompany'][1]['name']\n",
    "\n",
    "  year=movie_dict['releasedEvent'][0]['startDate']\n",
    "  genre=\" \".join(movie_dict['genre'])\n",
    "  director_string=\"\"\n",
    "  print(len(movie_dict[\"director\"]))\n",
    "  for dir in movie_dict['director']:\n",
    "    director_string+=dir['name']+\" \"\n",
    "  director_string=director_string.strip()\n",
    "  return \",\".join([mid,name,studio,director_string,genre,year])"
   ]
  },
  {
   "cell_type": "code",
   "execution_count": null,
   "metadata": {
    "id": "h25izMdt6RwE"
   },
   "outputs": [],
   "source": [
    "urls=[\n",
    "      \"https://letterboxd.com/film/rogue-one-a-star-wars-story/\",\n",
    "      \"https://letterboxd.com/film/star-wars-episode-iii-revenge-of-the-sith/\",\n",
    "      \"https://letterboxd.com/film/star-wars-the-rise-of-skywalker/\",\n",
    "      \"https://letterboxd.com/film/captain-america-the-first-avenger/\",\n",
    "      \"https://letterboxd.com/film/captain-america-the-winter-soldier/\",\n",
    "      \"https://letterboxd.com/film/captain-america-civil-war/\",\n",
    "      \"https://letterboxd.com/film/the-avengers-2012/\",\n",
    "      \"https://letterboxd.com/film/avengers-age-of-ultron/\",\n",
    "      \"https://letterboxd.com/film/avengers-infinity-war/\",\n",
    "      \"https://letterboxd.com/film/avengers-endgame/\",\n",
    "      \"https://letterboxd.com/film/captain-marvel/\",\n",
    "      \"https://letterboxd.com/film/beauty-and-the-beast-1991/\",\n",
    "      \"https://letterboxd.com/film/inside-out-2015/\",\n",
    "      \"https://letterboxd.com/film/monsters-university/\",\n",
    "      \"https://letterboxd.com/film/monsters-inc/\",\n",
    "      \"https://letterboxd.com/film/moana-2016/\",\n",
    "      \"https://letterboxd.com/film/zootopia/\",\n",
    "      \"https://letterboxd.com/film/mulan/\",\n",
    "      \"https://letterboxd.com/film/soul-2020/\",\n",
    "      \"https://letterboxd.com/film/frozen-2013/\",\n",
    "      \"https://letterboxd.com/film/frozen-ii/\",\n",
    "      \"https://letterboxd.com/film/tangled-2010/\",\n",
    "      \"https://letterboxd.com/film/cars/\",\n",
    "      \"https://letterboxd.com/film/finding-nemo/\"\n",
    "\n",
    "]"
   ]
  },
  {
   "cell_type": "code",
   "execution_count": null,
   "metadata": {
    "colab": {
     "base_uri": "https://localhost:8080/"
    },
    "id": "Flnc8mzN82C2",
    "outputId": "245da059-5ede-4c37-fb93-a13d38082273"
   },
   "outputs": [
    {
     "name": "stdout",
     "output_type": "stream",
     "text": [
      "1\n",
      "m1,Rogue One: A Star Wars Story,Lucasfilm Ltd.,Gareth Edwards,Action Adventure Science Fiction,2016\n",
      "6\n",
      "1\n",
      "m2,Star Wars: Episode III - Revenge of the Sith,Lucasfilm Ltd.,George Lucas,Action Science Fiction Adventure,2005\n",
      "6\n",
      "1\n",
      "m3,Star Wars: The Rise of Skywalker,Lucasfilm Ltd.,J.J. Abrams,Science Fiction Adventure Action,2019\n",
      "6\n",
      "1\n",
      "m4,Captain America: The First Avenger,Marvel Studios,Joe Johnston,Science Fiction Action Adventure,2011\n",
      "6\n",
      "2\n",
      "m5,Captain America: The Winter Soldier,Marvel Studios,Anthony Russo Joe Russo,Action Adventure Science Fiction,2014\n",
      "6\n",
      "2\n",
      "m6,Captain America: Civil War,Marvel Studios,Anthony Russo Joe Russo,Action Science Fiction Adventure,2016\n",
      "6\n",
      "1\n",
      "m7,The Avengers,Marvel Studios,Joss Whedon,Science Fiction Adventure Action,2012\n",
      "6\n",
      "1\n",
      "m8,Avengers: Age of Ultron,Marvel Studios,Joss Whedon,Science Fiction Action Adventure,2015\n",
      "6\n",
      "2\n",
      "m9,Avengers: Infinity War,Marvel Studios,Anthony Russo Joe Russo,Adventure Action Science Fiction,2018\n",
      "6\n",
      "2\n",
      "m10,Avengers: Endgame,Marvel Studios,Anthony Russo Joe Russo,Adventure Science Fiction Action,2019\n",
      "6\n",
      "2\n",
      "m11,Captain Marvel,Marvel Studios,Ryan Fleck Anna Boden,Science Fiction Action Adventure,2019\n",
      "6\n",
      "2\n",
      "m12,Beauty and the Beast,Walt Disney Animation Studios,Gary Trousdale Kirk Wise,Animation Family Fantasy Romance,1991\n",
      "6\n",
      "1\n",
      "m13,Inside Out,Pixar,Pete Docter,Adventure Comedy Family Drama Animation,2015\n",
      "6\n",
      "1\n",
      "m14,Monsters University,Pixar,Dan Scanlon,Animation Family,2013\n",
      "6\n",
      "1\n",
      "m15,Monsters, Inc.,Pixar,Pete Docter,Family Comedy Animation,2001\n",
      "7\n",
      "2\n",
      "m16,Moana,Walt Disney Animation Studios,Ron Clements John Musker,Comedy Adventure Animation Family,2016\n",
      "6\n",
      "2\n",
      "m17,Zootopia,Walt Disney Animation Studios,Byron Howard Rich Moore,Comedy Family Adventure Animation,2016\n",
      "6\n",
      "2\n",
      "m18,Mulan,Walt Disney Animation Studios,Tony Bancroft Barry Cook,Adventure Family Animation,1998\n",
      "6\n",
      "1\n",
      "m19,Soul,Pixar,Pete Docter,Family Drama Music Comedy Animation Fantasy,2020\n",
      "6\n",
      "2\n",
      "m20,Frozen,Walt Disney Animation Studios,Chris Buck Jennifer Lee,Family Adventure Animation,2013\n",
      "6\n",
      "2\n",
      "m21,Frozen II,Walt Disney Animation Studios,Chris Buck Jennifer Lee,Fantasy Music Family Adventure Comedy Animation,2019\n",
      "6\n",
      "2\n",
      "m22,Tangled,Walt Disney Animation Studios,Byron Howard Nathan Greno,Family Animation,2010\n",
      "6\n",
      "1\n",
      "m23,Cars,Pixar,John Lasseter,Animation Adventure Family Comedy,2006\n",
      "6\n",
      "1\n",
      "m24,Finding Nemo,Pixar,Andrew Stanton,Family Animation,2003\n",
      "6\n"
     ]
    }
   ],
   "source": [
    "with open('LIB.csv','a') as f:\n",
    "  for i,url in enumerate(urls):\n",
    "    info=get_movie_details(url,i+1)\n",
    "    print(info)\n",
    "    print(len(info.split(',')))\n",
    "    info=info.replace(\"Monsters, Inc\",\"Monsters Inc\")\n",
    "    f.write(info)\n",
    "    f.write(\"\\n\")\n",
    "  f.close()"
   ]
  }
 ],
 "metadata": {
  "colab": {
   "name": "LIB_table.ipynb",
   "provenance": []
  },
  "kernelspec": {
   "display_name": "Python 3",
   "language": "python",
   "name": "python3"
  },
  "language_info": {
   "codemirror_mode": {
    "name": "ipython",
    "version": 3
   },
   "file_extension": ".py",
   "mimetype": "text/x-python",
   "name": "python",
   "nbconvert_exporter": "python",
   "pygments_lexer": "ipython3",
   "version": "3.7.7"
  },
  "toc": {
   "base_numbering": 1,
   "nav_menu": {},
   "number_sections": true,
   "sideBar": true,
   "skip_h1_title": false,
   "title_cell": "Table of Contents",
   "title_sidebar": "Contents",
   "toc_cell": false,
   "toc_position": {},
   "toc_section_display": true,
   "toc_window_display": false
  },
  "varInspector": {
   "cols": {
    "lenName": 16,
    "lenType": 16,
    "lenVar": 40
   },
   "kernels_config": {
    "python": {
     "delete_cmd_postfix": "",
     "delete_cmd_prefix": "del ",
     "library": "var_list.py",
     "varRefreshCmd": "print(var_dic_list())"
    },
    "r": {
     "delete_cmd_postfix": ") ",
     "delete_cmd_prefix": "rm(",
     "library": "var_list.r",
     "varRefreshCmd": "cat(var_dic_list()) "
    }
   },
   "types_to_exclude": [
    "module",
    "function",
    "builtin_function_or_method",
    "instance",
    "_Feature"
   ],
   "window_display": false
  }
 },
 "nbformat": 4,
 "nbformat_minor": 1
}
